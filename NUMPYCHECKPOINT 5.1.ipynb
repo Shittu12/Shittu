{
 "cells": [
  {
   "cell_type": "code",
   "execution_count": 1,
   "id": "83e1259e-9823-4f55-9d56-c3d6baddedcd",
   "metadata": {},
   "outputs": [],
   "source": [
    "#Import the Numpy library.\n",
    "import numpy as np"
   ]
  },
  {
   "cell_type": "code",
   "execution_count": 2,
   "id": "e21308ce-aa6e-48a4-a2c5-114e180c3daa",
   "metadata": {},
   "outputs": [
    {
     "name": "stdin",
     "output_type": "stream",
     "text": [
      "Enter the number of student:  2\n",
      "Enter the number of subject:  4\n"
     ]
    }
   ],
   "source": [
    "#Ask the user to enter the number of students and the number of subjects.\n",
    "num_students = input(\"Enter the number of student: \")\n",
    "num_students = int(num_students)\n",
    "\n",
    "num_subjects = input(\"Enter the number of subject: \")\n",
    "num_subjects = int(num_subjects)"
   ]
  },
  {
   "cell_type": "code",
   "execution_count": 3,
   "id": "4cbc0dc8-acc7-4067-985c-d05298b04d0c",
   "metadata": {},
   "outputs": [],
   "source": [
    "# Create a NumPy array to store the marks of each student in each subject\n",
    "marks = np.zeros((num_students, num_subjects))"
   ]
  },
  {
   "cell_type": "code",
   "execution_count": 4,
   "id": "36320c42-5fc2-4ce1-8c9a-dc6fc4869329",
   "metadata": {},
   "outputs": [
    {
     "name": "stdout",
     "output_type": "stream",
     "text": [
      "Enter marks for student 1:\n"
     ]
    },
    {
     "name": "stdin",
     "output_type": "stream",
     "text": [
      "Subject 1:  90\n",
      "Subject 2:  70\n",
      "Subject 3:  65\n",
      "Subject 4:  55\n"
     ]
    },
    {
     "name": "stdout",
     "output_type": "stream",
     "text": [
      "Enter marks for student 2:\n"
     ]
    },
    {
     "name": "stdin",
     "output_type": "stream",
     "text": [
      "Subject 1:  80\n",
      "Subject 2:  90\n",
      "Subject 3:  60\n",
      "Subject 4:  93\n"
     ]
    }
   ],
   "source": [
    "# Ask the user to enter the marks of each student in each subject\n",
    "for i in range(num_students):\n",
    "    print(f\"Enter marks for student {i + 1}:\")\n",
    "    for j in range(num_subjects):\n",
    "        marks[i][j] = float(input(f\"Subject {j + 1}: \"))"
   ]
  },
  {
   "cell_type": "code",
   "execution_count": 10,
   "id": "494c8a6a-1afd-4299-a011-7ab58fabeeec",
   "metadata": {},
   "outputs": [],
   "source": [
    "#Calculate the total marks for each student using the sum() function of Numpy.\n",
    "total_marks = np.sum(marks, axis=1) \n",
    "#Calculate the percentage for each student using the total marks and the formula: \n",
    "percentage = (total_marks / (num_subjects * 100)) * 100\n",
    "#Calculate the grade for each student using the percentage and the following grading system:\n",
    "grades = []\n",
    "for percent in percentage:\n",
    "    if percent >= 90:\n",
    "        grades.append(\"A+\")\n",
    "    elif percent >= 80:\n",
    "        grades.append(\"A\")\n",
    "    elif percent >= 70:\n",
    "        grades.append(\"B+\")\n",
    "    elif percent >= 60:\n",
    "        grades.append(\"B\")\n",
    "    elif percent >= 50:\n",
    "        grades.append(\"C\")\n",
    "    else:\n",
    "        grades.append(\"F\")"
   ]
  },
  {
   "cell_type": "code",
   "execution_count": 11,
   "id": "978d4ac9-d121-4472-a1ca-77719ab48c55",
   "metadata": {},
   "outputs": [
    {
     "name": "stdout",
     "output_type": "stream",
     "text": [
      "\n",
      "Results:\n",
      "Student   Total Marks    Percentage     Grade     \n",
      "1         280.0          70.00          B+        \n",
      "2         323.0          80.75          A         \n"
     ]
    }
   ],
   "source": [
    "# Display the result for each student in a tabular format\n",
    "print(\"\\nResults:\")\n",
    "print(f\"{'Student':<10}{'Total Marks':<15}{'Percentage':<15}{'Grade':<10}\")\n",
    "for i in range(num_students):\n",
    "    print(f\"{i + 1:<10}{total_marks[i]:<15}{percentage[i]:<15.2f}{grades[i]:<10}\")\n"
   ]
  },
  {
   "cell_type": "code",
   "execution_count": null,
   "id": "9ded77ea-991f-401f-8b25-1c063c4ae998",
   "metadata": {},
   "outputs": [],
   "source": []
  }
 ],
 "metadata": {
  "kernelspec": {
   "display_name": "Python 3 (ipykernel)",
   "language": "python",
   "name": "python3"
  },
  "language_info": {
   "codemirror_mode": {
    "name": "ipython",
    "version": 3
   },
   "file_extension": ".py",
   "mimetype": "text/x-python",
   "name": "python",
   "nbconvert_exporter": "python",
   "pygments_lexer": "ipython3",
   "version": "3.11.7"
  }
 },
 "nbformat": 4,
 "nbformat_minor": 5
}
