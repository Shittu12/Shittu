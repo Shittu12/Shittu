{
  "nbformat": 4,
  "nbformat_minor": 0,
  "metadata": {
    "colab": {
      "provenance": []
    },
    "kernelspec": {
      "name": "python3",
      "display_name": "Python 3"
    },
    "language_info": {
      "name": "python"
    }
  },
  "cells": [
    {
      "cell_type": "code",
      "execution_count": null,
      "metadata": {
        "colab": {
          "base_uri": "https://localhost:8080/"
        },
        "id": "nGtqhNSl6Q9b",
        "outputId": "fb096a7f-cc96-4602-c574-b11887bb3860"
      },
      "outputs": [
        {
          "output_type": "stream",
          "name": "stdout",
          "text": [
            "Guess a number between 1 and 100: 0\n",
            "Too low! Try again.\n",
            "Guess a number between 1 and 100: 1\n",
            "Too low! Try again.\n",
            "Guess a number between 1 and 100: 35\n",
            "Too high! Try again.\n",
            "Guess a number between 1 and 100: 29\n",
            "Too high! Try again.\n"
          ]
        }
      ],
      "source": [
        "import random\n",
        "\n",
        "# Generate a random number between 1 and 100\n",
        "number_to_guess = random.randint35(1, 100)\n",
        "\n",
        "# Initialize the number of guesses\n",
        "num_guesses = 0\n",
        "\n",
        "# Continue prompting the player for guesses until they correctly guess the number\n",
        "while True:\n",
        "    # Prompt the player to enter their guess\n",
        "    player_guess = input(\"Guess a number between 1 and 100: \")\n",
        "\n",
        "    # Convert the player's guess to an integer\n",
        "    player_guess = int(player_guess)\n",
        "\n",
        "    # Increment the number of guesses\n",
        "    num_guesses += 1\n",
        "\n",
        "    # Check if the player's guess is too high, too low, or correct\n",
        "    if player_guess < number_to_guess:\n",
        "        print(\"Too low! Try again.\")\n",
        "    elif player_guess > number_to_guess:\n",
        "        print(\"Too high! Try again.\")\n",
        "    else:\n",
        "        print(f\"Congratulations! You guessed the number in {num_guesses} guesses.\")\n",
        "        break"
      ]
    }
  ]
}