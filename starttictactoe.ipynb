{
 "cells": [
  {
   "cell_type": "code",
   "execution_count": 1,
   "metadata": {},
   "outputs": [],
   "source": [
    "import tkinter as tk\n",
    "from tkinter import messagebox\n",
    "\n",
    "# Initialize the main window\n",
    "root = tk.Tk()\n",
    "root.title(\"Juwon's Tic Tac Toe\")\n",
    "root.configure(bg=\"navy\")\n",
    "\n",
    "# Variables to keep track of the game state\n",
    "starting_player = \"X\"\n",
    "current_player = starting_player\n",
    "board = [\" \" for _ in range(9)]\n",
    "buttons = []\n",
    "score_X = 0\n",
    "score_O = 0\n",
    "score_tie = 0\n",
    "is_fullscreen = False\n",
    "\n",
    "# Function to handle button clicks\n",
    "def button_click(index):\n",
    "    global current_player\n",
    "    \n",
    "    if board[index] == \" \":\n",
    "        board[index] = current_player\n",
    "        buttons[index].config(text=current_player, state=\"disabled\", disabledforeground=\"green\" if current_player == \"X\" else \"navy\")\n",
    "        \n",
    "        if check_winner():\n",
    "            update_score(current_player)\n",
    "            messagebox.showinfo(\"Tic Tac Toe\", f\"Player {current_player} wins!\")\n",
    "            reset_board()\n",
    "        elif \" \" not in board:\n",
    "            update_score(None)  # Update the tie score\n",
    "            messagebox.showinfo(\"Tic Tac Toe\", \"It's a draw!\")\n",
    "            reset_board()\n",
    "        else:\n",
    "            current_player = \"O\" if current_player == \"X\" else \"X\"\n",
    "            update_status()\n"
   ]
  },
  {
   "cell_type": "code",
   "execution_count": null,
   "metadata": {},
   "outputs": [],
   "source": []
  }
 ],
 "metadata": {
  "kernelspec": {
   "display_name": "Python 3",
   "language": "python",
   "name": "python3"
  },
  "language_info": {
   "codemirror_mode": {
    "name": "ipython",
    "version": 3
   },
   "file_extension": ".py",
   "mimetype": "text/x-python",
   "name": "python",
   "nbconvert_exporter": "python",
   "pygments_lexer": "ipython3",
   "version": "3.8.10"
  }
 },
 "nbformat": 4,
 "nbformat_minor": 2
}
