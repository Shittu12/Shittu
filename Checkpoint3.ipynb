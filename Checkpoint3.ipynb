{
  "nbformat": 4,
  "nbformat_minor": 0,
  "metadata": {
    "colab": {
      "provenance": []
    },
    "kernelspec": {
      "name": "python3",
      "display_name": "Python 3"
    },
    "language_info": {
      "name": "python"
    }
  },
  "cells": [
    {
      "cell_type": "code",
      "execution_count": 4,
      "metadata": {
        "colab": {
          "base_uri": "https://localhost:8080/"
        },
        "id": "HFHwHw04St0f",
        "outputId": "ca17d24a-cc9e-42d3-c792-6fcbb2c92853"
      },
      "outputs": [
        {
          "output_type": "stream",
          "name": "stdout",
          "text": [
            "36\n"
          ]
        }
      ],
      "source": [
        "# Write a Python program that multiplies all the items in a list.\n",
        "\n",
        "sample_list= [2, 3, 6]\n",
        "print(sample_list[0] * sample_list[1] * sample_list[2])"
      ]
    },
    {
      "cell_type": "code",
      "source": [
        "# Write a Python program to get a list, sorted in increasing order by the last element in each tuple, from a given list of non-empty tuples.\n",
        "\n",
        "tuple_list = [(2, 5), (1, 2), (4, 4), (2, 3), (2, 1)]\n",
        "tuple_list.sort()\n",
        "print(tuple_list)"
      ],
      "metadata": {
        "colab": {
          "base_uri": "https://localhost:8080/"
        },
        "id": "OuajQe6gVmNm",
        "outputId": "10e7fd39-8da1-4353-d476-596bf25be29e"
      },
      "execution_count": 5,
      "outputs": [
        {
          "output_type": "stream",
          "name": "stdout",
          "text": [
            "[(1, 2), (2, 1), (2, 3), (2, 5), (4, 4)]\n"
          ]
        }
      ]
    },
    {
      "cell_type": "code",
      "source": [
        "# Write a Python program that combines two dictionaries by adding values for common keys.\n",
        "dict1 = {'a': 100, 'b': 200, 'c':300}\n",
        "dict2 = {'a': 300, 'b': 200, 'd':400}\n",
        "\n",
        "combined_dict = {key: dict1.get(key, 0) + dict2.get(key, 0) for key in set(dict1) | set(dict2)}\n",
        "\n",
        "print(combined_dict)\n"
      ],
      "metadata": {
        "colab": {
          "base_uri": "https://localhost:8080/"
        },
        "id": "WN1NNl5FWplp",
        "outputId": "6696c4b7-d04c-4507-a352-a6caa4f4c23f"
      },
      "execution_count": 25,
      "outputs": [
        {
          "output_type": "stream",
          "name": "stdout",
          "text": [
            "{'b': 400, 'a': 400, 'c': 300, 'd': 400}\n"
          ]
        }
      ]
    },
    {
      "cell_type": "code",
      "source": [
        "#With a given integral number n, write a program to generate a dictionary that contains (i, i*i) so that is an integral number between 1 and n (both included).\n",
        "#Then the program should print the dictionary.\n",
        "#Suppose the following input is supplied to the program: 8. Then, the output should be: {1: 1, 2: 4, 3: 9, 4: 16, 5: 25, 6: 36, 7: 49, 8: 64}\n",
        "\n",
        "n = int(input(\"Enter a number: \"))\n",
        "print({i: i*i for i in range(1, n+1)})\n"
      ],
      "metadata": {
        "colab": {
          "base_uri": "https://localhost:8080/"
        },
        "id": "R2fyWDoVaDnD",
        "outputId": "42e058ba-3ef1-4be6-92d3-5fd54cad6861"
      },
      "execution_count": 16,
      "outputs": [
        {
          "output_type": "stream",
          "name": "stdout",
          "text": [
            "Enter a number: 8\n",
            "{1: 1, 2: 4, 3: 9, 4: 16, 5: 25, 6: 36, 7: 49, 8: 64}\n"
          ]
        }
      ]
    },
    {
      "cell_type": "code",
      "source": [
        "my_tuple = (('a', 3.5), ('b', 1.2), ('c', 4.7), ('d', 2.1))\n",
        "sorted_tuple = sorted(my_tuple, key=lambda x: x[1])\n",
        "print(sorted_tuple)"
      ],
      "metadata": {
        "colab": {
          "base_uri": "https://localhost:8080/"
        },
        "id": "mtf9qJV1byr6",
        "outputId": "813ad609-28b5-4274-c769-1d4122b1a12b"
      },
      "execution_count": 17,
      "outputs": [
        {
          "output_type": "stream",
          "name": "stdout",
          "text": [
            "[('b', 1.2), ('d', 2.1), ('a', 3.5), ('c', 4.7)]\n"
          ]
        }
      ]
    },
    {
      "cell_type": "code",
      "source": [
        "#Write a Python program to create a set.\n",
        "my_set = {1, 2, 3, 4, 5}\n",
        "print(my_set)"
      ],
      "metadata": {
        "colab": {
          "base_uri": "https://localhost:8080/"
        },
        "id": "HDGDId0lcK7D",
        "outputId": "2a56d349-4f31-4634-8c62-e4288ad7053c"
      },
      "execution_count": 19,
      "outputs": [
        {
          "output_type": "stream",
          "name": "stdout",
          "text": [
            "{1, 2, 3, 4, 5}\n"
          ]
        }
      ]
    },
    {
      "cell_type": "code",
      "source": [
        "#Write a Python program to iteration over sets.\n",
        "my_sem = {'a', 'b', 'c', 'd', 'e'}\n",
        "for element in my_sem:\n",
        "    print(element)"
      ],
      "metadata": {
        "colab": {
          "base_uri": "https://localhost:8080/"
        },
        "id": "YoPaoA1Wdcvb",
        "outputId": "9928ca28-5b28-4fda-b3cd-5279b3bd5e32"
      },
      "execution_count": 24,
      "outputs": [
        {
          "output_type": "stream",
          "name": "stdout",
          "text": [
            "e\n",
            "b\n",
            "a\n",
            "c\n",
            "d\n"
          ]
        }
      ]
    },
    {
      "cell_type": "code",
      "source": [
        "#Write a Python program to add members in a set and to remove items from a given set.\n",
        "ay_set = {'a', 'b', 'c', 'd', 'e', 'f', 'g', 'h'}\n",
        "ay_set.add('z')\n",
        "print(ay_set)\n",
        "ay_set.remove('d')\n",
        "print(ay_set)"
      ],
      "metadata": {
        "colab": {
          "base_uri": "https://localhost:8080/"
        },
        "id": "C4RJT9mYeHGa",
        "outputId": "5f105698-7f49-43b7-bf15-593d1db4802a"
      },
      "execution_count": 23,
      "outputs": [
        {
          "output_type": "stream",
          "name": "stdout",
          "text": [
            "{'g', 'e', 'h', 'd', 'b', 'z', 'a', 'f', 'c'}\n",
            "{'g', 'e', 'h', 'b', 'z', 'a', 'f', 'c'}\n"
          ]
        }
      ]
    }
  ]
}