{
  "cells": [
    {
      "cell_type": "code",
      "execution_count": null,
      "id": "84ddef89-e074-4904-97d4-8bcd55f0685c",
      "metadata": {
        "id": "84ddef89-e074-4904-97d4-8bcd55f0685c",
        "outputId": "a7a06bbb-a95d-4328-c7d3-c2be5ba0cef9"
      },
      "outputs": [
        {
          "name": "stdout",
          "output_type": "stream",
          "text": [
            "False\n",
            "True\n"
          ]
        }
      ],
      "source": [
        "#Write a Python program for a binary search.\n",
        "def binary_search(arr, target):\n",
        "    low, high = 0, len(arr) - 1\n",
        "    while low <= high:\n",
        "        mid = (low + high) // 2\n",
        "        if arr[mid] == target:\n",
        "            return True\n",
        "        elif arr[mid] < target:\n",
        "            low = mid + 1\n",
        "        else:\n",
        "            high = mid - 1\n",
        "    return False\n",
        "# Test cases\n",
        "print(binary_search([1, 2, 3, 5, 8], 6))\n",
        "print(binary_search([1, 2, 3, 5, 8], 5))\n"
      ]
    },
    {
      "cell_type": "code",
      "execution_count": null,
      "id": "8536bb3b-9088-4150-a1d4-6a3fe0b3083c",
      "metadata": {
        "id": "8536bb3b-9088-4150-a1d4-6a3fe0b3083c",
        "outputId": "accc7804-66dc-48ca-c317-44f12281a034"
      },
      "outputs": [
        {
          "name": "stdout",
          "output_type": "stream",
          "text": [
            "81\n"
          ]
        }
      ],
      "source": [
        "#Write a Python program to calculate the value of 'a' to the power 'b'.\n",
        "def power(a, b):\n",
        "    return a ** b\n",
        "# Test cases\n",
        "print(power(3, 4))"
      ]
    },
    {
      "cell_type": "code",
      "execution_count": null,
      "id": "3dfdd1a0-63b4-4128-9106-1aded9fb59f0",
      "metadata": {
        "id": "3dfdd1a0-63b4-4128-9106-1aded9fb59f0",
        "outputId": "0aa460f4-b0eb-412f-cfa3-dc9ae2bbc7f1"
      },
      "outputs": [
        {
          "name": "stdout",
          "output_type": "stream",
          "text": [
            "Unsorted list: [29, 13, 22, 37, 52, 49, 46, 71, 56]\n",
            "Sorted list: [13, 22, 29, 37, 46, 49, 52, 56, 71]\n"
          ]
        }
      ],
      "source": [
        "# 3. Write a Python program to sort a list of elements using the bubble sort algorithm.\n",
        "def bubble_sort(lst):\n",
        "    n = len(lst)\n",
        "    for i in range(n):\n",
        "        swapped = False\n",
        "        for j in range(0, n-i-1):\n",
        "            if lst[j] > lst[j+1]:\n",
        "                lst[j], lst[j+1] = lst[j+1], lst[j]\n",
        "                swapped = True\n",
        "        if not swapped:\n",
        "            break\n",
        "    return lst\n",
        "lst = [29, 13, 22, 37, 52, 49, 46, 71, 56]\n",
        "print(\"Unsorted list:\", lst)\n",
        "print(\"Sorted list:\", bubble_sort(lst))"
      ]
    },
    {
      "cell_type": "code",
      "execution_count": null,
      "id": "e1791165-90c4-4fd2-b941-285235ad6f97",
      "metadata": {
        "id": "e1791165-90c4-4fd2-b941-285235ad6f97",
        "outputId": "a210ca7d-26df-4fef-e85e-0ee84bcf5539"
      },
      "outputs": [
        {
          "name": "stdout",
          "output_type": "stream",
          "text": [
            "Unsorted list: [29, 13, 22, 37, 52, 49, 46, 71, 56]\n",
            "Sorted list: [13, 22, 29, 37, 46, 49, 52, 56, 71]\n"
          ]
        }
      ],
      "source": [
        "#Write a Python program to sort a list of elements using the merge sort algorithm.\n",
        "def merge_sort(lst):\n",
        "    if len(lst) <= 1:\n",
        "        return lst\n",
        "    mid = len(lst) // 2\n",
        "    left_half = lst[:mid]\n",
        "    right_half = lst[mid:]\n",
        "    left_half = merge_sort(left_half)\n",
        "    right_half = merge_sort(right_half)\n",
        "    return merge(left_half, right_half)\n",
        "def merge(left, right):\n",
        "    merged = []\n",
        "    left_index = 0\n",
        "    right_index = 0\n",
        "    while left_index < len(left) and right_index < len(right):\n",
        "        if left[left_index] < right[right_index]:\n",
        "            merged.append(left[left_index])\n",
        "            left_index += 1\n",
        "        else:\n",
        "            merged.append(right[right_index])\n",
        "            right_index += 1\n",
        "    merged += left[left_index:]\n",
        "    merged += right[right_index:]\n",
        "    return merged\n",
        "lst = [29, 13, 22, 37, 52, 49, 46, 71, 56]\n",
        "print(\"Unsorted list:\", lst)\n",
        "print(\"Sorted list:\", merge_sort(lst))\n",
        "\n"
      ]
    },
    {
      "cell_type": "code",
      "execution_count": null,
      "id": "41c0b48c-2ec3-4cc1-935a-66c7bccb972f",
      "metadata": {
        "id": "41c0b48c-2ec3-4cc1-935a-66c7bccb972f",
        "outputId": "d7a8f2d0-07ad-4907-fb50-7ef02c9d68b8"
      },
      "outputs": [
        {
          "name": "stdout",
          "output_type": "stream",
          "text": [
            "Unsorted list: [29, 13, 22, 37, 52, 49, 46, 71, 56]\n",
            "Sorted list: [13, 22, 29, 37, 46, 49, 52, 56, 71]\n"
          ]
        }
      ],
      "source": [
        "#Write a Python program to sort a list of elements using the quick sort algorithm.\n",
        "def quick_sort(lst):\n",
        "    if len(lst) <= 1:\n",
        "        return lst\n",
        "    else:\n",
        "        pivot = lst[0]\n",
        "        less_than_pivot = [x for x in lst[1:] if x <= pivot]\n",
        "        greater_than_pivot = [x for x in lst[1:] if x > pivot]\n",
        "        return quick_sort(less_than_pivot) + [pivot] + quick_sort(greater_than_pivot)\n",
        "lst = [29, 13, 22, 37, 52, 49, 46, 71, 56]\n",
        "print(\"Unsorted list:\", lst)\n",
        "print(\"Sorted list:\", quick_sort(lst))"
      ]
    },
    {
      "cell_type": "code",
      "execution_count": null,
      "id": "43efae4e-6e57-46d8-92dd-f6699600e385",
      "metadata": {
        "id": "43efae4e-6e57-46d8-92dd-f6699600e385"
      },
      "outputs": [],
      "source": []
    }
  ],
  "metadata": {
    "kernelspec": {
      "display_name": "Python 3 (ipykernel)",
      "language": "python",
      "name": "python3"
    },
    "language_info": {
      "codemirror_mode": {
        "name": "ipython",
        "version": 3
      },
      "file_extension": ".py",
      "mimetype": "text/x-python",
      "name": "python",
      "nbconvert_exporter": "python",
      "pygments_lexer": "ipython3",
      "version": "3.11.7"
    },
    "colab": {
      "provenance": []
    }
  },
  "nbformat": 4,
  "nbformat_minor": 5
}