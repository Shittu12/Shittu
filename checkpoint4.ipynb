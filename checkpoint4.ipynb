{
  "nbformat": 4,
  "nbformat_minor": 0,
  "metadata": {
    "colab": {
      "provenance": []
    },
    "kernelspec": {
      "name": "python3",
      "display_name": "Python 3"
    },
    "language_info": {
      "name": "python"
    }
  },
  "cells": [
    {
      "cell_type": "code",
      "execution_count": 10,
      "metadata": {
        "id": "scZOBJ1jJ1uz"
      },
      "outputs": [],
      "source": [
        "def calculator(num1, num2):\n",
        "    operator = input(\"Enter an operator (+, -, *, /): \")\n",
        "\n",
        "    if operator == '+':\n",
        "        result = num1 + num2\n",
        "    elif operator == '-':\n",
        "        result = num1 - num2\n",
        "    elif operator == '*':\n",
        "        result = num1 * num2\n",
        "    elif operator == '/':\n",
        "        if num2 == 0:\n",
        "            return \"Error: Division by zero is not allowed.\"\n",
        "        result = num1 / num2\n",
        "    else:\n",
        "        return \"Error: Invalid operator.\"\n",
        "\n",
        "    return result\n",
        "\n"
      ]
    },
    {
      "cell_type": "code",
      "source": [
        "# Call the function with two numbers and print the result\n",
        "num1 = 10\n",
        "num2 = 5\n",
        "result = calculator(num1, num2)\n",
        "print(\"The result is:\", result)\n"
      ],
      "metadata": {
        "colab": {
          "base_uri": "https://localhost:8080/"
        },
        "id": "90j-VGVAKWWC",
        "outputId": "c91e7bc5-5395-4084-f05c-e7274dbe5db7"
      },
      "execution_count": 11,
      "outputs": [
        {
          "output_type": "stream",
          "name": "stdout",
          "text": [
            "Enter an operator (+, -, *, /): +\n",
            "The result is: 15\n"
          ]
        }
      ]
    },
    {
      "cell_type": "code",
      "source": [],
      "metadata": {
        "id": "4F36pfuTMYKo"
      },
      "execution_count": null,
      "outputs": []
    }
  ]
}