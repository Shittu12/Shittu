{
  "nbformat": 4,
  "nbformat_minor": 0,
  "metadata": {
    "colab": {
      "provenance": []
    },
    "kernelspec": {
      "name": "python3",
      "display_name": "Python 3"
    },
    "language_info": {
      "name": "python"
    }
  },
  "cells": [
    {
      "cell_type": "code",
      "execution_count": 18,
      "metadata": {
        "colab": {
          "base_uri": "https://localhost:8080/"
        },
        "id": "Ub95GZyB7jn3",
        "outputId": "81943bf0-fadb-4220-d8e3-0f533789224e"
      },
      "outputs": [
        {
          "output_type": "stream",
          "name": "stdout",
          "text": [
            "What is Python language?                                                \n",
            "Python is a widely used high-level, general-purpose, interpreted, dynamic programming language.Its design philosophy emphasizes code readability, and its syntax allows programmers to express concepts in fewer lines of code than possible in \n",
            "languages such as C++ or Java. \n",
            "Python supports multiple programming paradigms, including object-oriented, imperative and functional programming or procedural styles. It features a dynamic type system and automatic memory management and has a large and comprehensive standard library.The best way we learn anything is by practice and exercise questions. We  have started this section for those (beginner to intermediate) who are familiar with Python.\n"
          ]
        }
      ],
      "source": [
        "# read an entire text file.\n",
        "def read_entire_file(file_path):\n",
        "    with open(file_path, 'r') as file:\n",
        "        content = file.read()\n",
        "    return content\n",
        "\n",
        "# Example usage\n",
        "file_path = \"/content/drive/MyDrive/python.txt\"\n",
        "print(read_entire_file(file_path))"
      ]
    },
    {
      "cell_type": "code",
      "source": [
        "# read the first n lines of a file.\n",
        "def read_first_n_lines(file_path, n):\n",
        "    with open(file_path, 'r') as file:\n",
        "        lines = []\n",
        "        for _ in range(n):\n",
        "            try:\n",
        "                line = next(file)\n",
        "                lines.append(line.strip())\n",
        "            except StopIteration:\n",
        "                break\n",
        "    return lines\n",
        "\n",
        "# Example usage\n",
        "file_path = \"/content/drive/MyDrive/python.txt\"\n",
        "n = 5\n",
        "print(read_first_n_lines(file_path, n))"
      ],
      "metadata": {
        "colab": {
          "base_uri": "https://localhost:8080/"
        },
        "id": "ojNEqrdR7wVf",
        "outputId": "eb3504b0-7a76-44a1-b05a-2e43ae6afa0e"
      },
      "execution_count": 26,
      "outputs": [
        {
          "output_type": "stream",
          "name": "stdout",
          "text": [
            "['What is Python language?', 'Python is a widely used high-level, general-purpose, interpreted, dynamic programming language.Its design philosophy emphasizes code readability, and its syntax allows programmers to express concepts in fewer lines of code than possible in', 'languages such as C++ or Java.', 'Python supports multiple programming paradigms, including object-oriented, imperative and functional programming or procedural styles. It features a dynamic type system and automatic memory management and has a large and comprehensive standard library.The best way we learn anything is by practice and exercise questions. We  have started this section for those (beginner to intermediate) who are familiar with Python.']\n"
          ]
        }
      ]
    },
    {
      "cell_type": "code",
      "source": [
        " # read the last n lines of a file.\n",
        " def read_last_n_lines(file_path, n):\n",
        "    with open(file_path, 'r') as file:\n",
        "        lines = file.readlines()\n",
        "    return lines[-n:]\n",
        "\n",
        "# Example usage\n",
        "file_path = \"/content/drive/MyDrive/python.txt\"\n",
        "n = 5\n",
        "print(read_last_n_lines(file_path, n))"
      ],
      "metadata": {
        "colab": {
          "base_uri": "https://localhost:8080/"
        },
        "id": "wHcN5E1s8h5Z",
        "outputId": "f6445d97-a486-4992-aee5-ee5540895cd4"
      },
      "execution_count": 8,
      "outputs": [
        {
          "output_type": "stream",
          "name": "stdout",
          "text": [
            "['What is Python language?                                                \\n', 'Python is a widely used high-level, general-purpose, interpreted, dynamic programming language.Its design philosophy emphasizes code readability, and its syntax allows programmers to express concepts in fewer lines of code than possible in \\n', 'languages such as C++ or Java. \\n', 'Python supports multiple programming paradigms, including object-oriented, imperative and functional programming or procedural styles. It features a dynamic type system and automatic memory management and has a large and comprehensive standard library.The best way we learn anything is by practice and exercise questions. We  have started this section for those (beginner to intermediate) who are familiar with Python.']\n"
          ]
        }
      ]
    },
    {
      "cell_type": "code",
      "source": [
        "#  takes a text file as input and returns the number of words of a given text file.\n",
        "def count_words_in_file(file_path):\n",
        "    with open(file_path, 'r') as file:\n",
        "        content = file.read()\n",
        "    words = content.split()\n",
        "    return len(words)\n",
        "\n",
        "# Example usage\n",
        "file_path = \"/content/drive/MyDrive/python.txt\"\n",
        "print(count_words_in_file(file_path))"
      ],
      "metadata": {
        "colab": {
          "base_uri": "https://localhost:8080/"
        },
        "id": "gTJ0s26xLOPY",
        "outputId": "3e68f298-f05d-467f-f66f-bd8cd4643b64"
      },
      "execution_count": 15,
      "outputs": [
        {
          "output_type": "stream",
          "name": "stdout",
          "text": [
            "100\n"
          ]
        }
      ]
    },
    {
      "cell_type": "code",
      "source": [
        "#  read the last n lines of a file.\n",
        "def read_last_n_lines(file_path, n):\n",
        "    with open(file_path, 'r') as file:\n",
        "        lines = file.readlines()\n",
        "    return lines[-n:]\n",
        "\n",
        "# Example usage\n",
        "file_path = \"/content/drive/MyDrive/python.txt\"\n",
        "n = 5\n",
        "print(read_last_n_lines(file_path, n))"
      ],
      "metadata": {
        "colab": {
          "base_uri": "https://localhost:8080/"
        },
        "id": "VkfpxWKHL43Q",
        "outputId": "07a7d186-6bf1-4748-cb70-52c2e205fe0d"
      },
      "execution_count": 16,
      "outputs": [
        {
          "output_type": "stream",
          "name": "stdout",
          "text": [
            "['What is Python language?                                                \\n', 'Python is a widely used high-level, general-purpose, interpreted, dynamic programming language.Its design philosophy emphasizes code readability, and its syntax allows programmers to express concepts in fewer lines of code than possible in \\n', 'languages such as C++ or Java. \\n', 'Python supports multiple programming paradigms, including object-oriented, imperative and functional programming or procedural styles. It features a dynamic type system and automatic memory management and has a large and comprehensive standard library.The best way we learn anything is by practice and exercise questions. We  have started this section for those (beginner to intermediate) who are familiar with Python.']\n"
          ]
        }
      ]
    },
    {
      "cell_type": "code",
      "source": [],
      "metadata": {
        "id": "_HYwD_ssMF5r"
      },
      "execution_count": null,
      "outputs": []
    }
  ]
}