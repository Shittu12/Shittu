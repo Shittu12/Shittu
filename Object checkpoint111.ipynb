{
  "nbformat": 4,
  "nbformat_minor": 0,
  "metadata": {
    "colab": {
      "provenance": []
    },
    "kernelspec": {
      "name": "python3",
      "display_name": "Python 3"
    },
    "language_info": {
      "name": "python"
    }
  },
  "cells": [
    {
      "cell_type": "code",
      "execution_count": null,
      "metadata": {
        "id": "SIr4OemP43Z5"
      },
      "outputs": [],
      "source": [
        "#Write a Python class named Point3D defined by x, y, and z. Define a method that returns (x, y ,z).\n",
        "#This tells Python to represent this object in the following format: (x, y, z).\n",
        "#Then create a variable named my_point containing a new instance of Point3D with x=1, y=2, and z=3 and print it.\n",
        "class Point3D:\n",
        "    def __init__(self, x, y, z):\n",
        "        self.x = x\n",
        "        self.y = y\n",
        "        self.z = z\n",
        "    def __repr__(self):\n",
        "      return f\"(x = {self.x}, y = {self.y}, z = {self.z})\""
      ]
    },
    {
      "cell_type": "code",
      "source": [
        "my_point = Point3D(1, 2, 3)\n",
        "print(my_point)"
      ],
      "metadata": {
        "colab": {
          "base_uri": "https://localhost:8080/"
        },
        "id": "R1PU_vrY5iPp",
        "outputId": "e1fa1b7c-d0f5-4a1b-e1bb-8431214eea6a"
      },
      "execution_count": null,
      "outputs": [
        {
          "output_type": "stream",
          "name": "stdout",
          "text": [
            "(x = 1, y = 2, z = 3)\n"
          ]
        }
      ]
    },
    {
      "cell_type": "code",
      "source": [
        "# Write a Python class named Rectangle constructed by a length and width.\n",
        "# Define two methods, area and perimeter, which will compute the area and the perimeter of the rectangle.\n",
        "# Then create a variable named my_rectangle containing a new instance of Rectangle with width=3 and length = 4\n",
        "# and compute both area and perimeter ( the area is expected to be 3*4=12 and perimeter 2*(3+4)=14).\n",
        "class Rectangle:\n",
        "    def __init__(self, length, width):\n",
        "        self.length = length\n",
        "        self.width = width\n",
        "\n",
        "    def area(self):\n",
        "        return self.length * self.width\n",
        "\n",
        "    def perimeter(self):\n",
        "        return 2 * (self.length + self.width)"
      ],
      "metadata": {
        "id": "tmv1oU9R7dUZ"
      },
      "execution_count": null,
      "outputs": []
    },
    {
      "cell_type": "code",
      "source": [
        "my_rectangle = Rectangle(4, 3)\n",
        "print(\"Area:\", my_rectangle.area())\n",
        "print(\"Perimeter:\", my_rectangle.perimeter())"
      ],
      "metadata": {
        "colab": {
          "base_uri": "https://localhost:8080/"
        },
        "id": "jZmk6i56-IWm",
        "outputId": "bb8781b9-b462-487a-f758-6b95226f0dfb"
      },
      "execution_count": null,
      "outputs": [
        {
          "output_type": "stream",
          "name": "stdout",
          "text": [
            "Area: 12\n",
            "Perimeter: 14\n"
          ]
        }
      ]
    },
    {
      "cell_type": "code",
      "source": [
        "# Write a Python  class named Circle constructed by its center O and radius r.\n",
        "# Define two methods, area and perimeter, which will compute the area and the perimeter of the circle,\n",
        "# and is Inside() method which allows you to test whether a point A(x, y) belongs to the circle C(O, r) or not.\n",
        "import math\n",
        "class Circle:\n",
        "    def __init__(self, center, radius):\n",
        "      self.center = center\n",
        "      self.radius = radius\n",
        "\n",
        "    def area(self):\n",
        "        return 3.14 * self.radius ** 2\n",
        "\n",
        "    def perimeter(self):\n",
        "        return 2 * 3.14 * self.radius\n",
        "    def is_inside(self, point):\n",
        "      distance = math.sqrt((point[0] - self.center[0])**2 + (point[1] - self.center[1])**2)\n",
        "      return distance <= self.radius"
      ],
      "metadata": {
        "id": "JX7iUscS8odW"
      },
      "execution_count": 4,
      "outputs": []
    },
    {
      "cell_type": "code",
      "source": [
        "my_circle = Circle((0, 0), 5)\n",
        "print(\"Area:\", my_circle.area())\n",
        "print(\"Perimeter\", my_circle.perimeter())\n",
        "print(\"Is point(3, 4) inside the circle\", my_circle.is_inside((3,4)))\n",
        "print(\"Is point(6, 0) inside the circle\", my_circle.is_inside((6,0)))"
      ],
      "metadata": {
        "id": "PDwzGzm_AVlY",
        "colab": {
          "base_uri": "https://localhost:8080/"
        },
        "outputId": "5663140c-b938-4cdc-a9d0-2ad06158a728"
      },
      "execution_count": 5,
      "outputs": [
        {
          "output_type": "stream",
          "name": "stdout",
          "text": [
            "Area: 78.5\n",
            "Perimeter 31.400000000000002\n",
            "Is point(3, 4) inside the circle True\n",
            "Is point(6, 0) inside the circle False\n"
          ]
        }
      ]
    },
    {
      "cell_type": "code",
      "source": [
        "#Suppose we want to model a bank account with support for deposit and withdraw operations.\n",
        "#Let’s create a Python class named Bank defined by its balance. Define two methods, deposit and withdraw, to compute the new amount of each operation.\n",
        "class BankAccount:\n",
        "    def __init__(self, account_number, balance):\n",
        "        self.account_number = account_number  # Public attribute\n",
        "        self.__balance = balance  # Private attribute\n",
        "\n",
        "    def deposit(self, amount):\n",
        "        if amount > 0:\n",
        "            self.__balance += amount\n",
        "\n",
        "    def withdraw(self, amount):\n",
        "        if 0 < amount <= self.__balance:\n",
        "            self.__balance -= amount\n",
        "\n",
        "    def get_balance(self):\n",
        "        return self.__balance"
      ],
      "metadata": {
        "id": "C9VnY1QrI5IU"
      },
      "execution_count": 1,
      "outputs": []
    },
    {
      "cell_type": "code",
      "source": [
        "account = BankAccount(\"123456789\", 1000)\n",
        "account.deposit(500)\n",
        "account.withdraw(200)\n",
        "print(account.get_balance())"
      ],
      "metadata": {
        "colab": {
          "base_uri": "https://localhost:8080/"
        },
        "id": "TtFfXevBJjxS",
        "outputId": "b21a7903-bb1a-46fd-9b41-467024beda6e"
      },
      "execution_count": 2,
      "outputs": [
        {
          "output_type": "stream",
          "name": "stdout",
          "text": [
            "1300\n"
          ]
        }
      ]
    },
    {
      "cell_type": "code",
      "source": [],
      "metadata": {
        "id": "QNeKJGC9JsAT"
      },
      "execution_count": null,
      "outputs": []
    }
  ]
}